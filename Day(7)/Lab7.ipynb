{
  "nbformat": 4,
  "nbformat_minor": 0,
  "metadata": {
    "colab": {
      "name": "Lab7.ipynb",
      "provenance": []
    },
    "kernelspec": {
      "name": "python3",
      "display_name": "Python 3"
    },
    "language_info": {
      "name": "python"
    }
  },
  "cells": [
    {
      "cell_type": "code",
      "execution_count": 1,
      "metadata": {
        "colab": {
          "base_uri": "https://localhost:8080/"
        },
        "id": "ncuYybXsRnKa",
        "outputId": "b05ec548-4cd2-4eb4-cbc6-7a0ef0ffecd3"
      },
      "outputs": [
        {
          "output_type": "stream",
          "name": "stdout",
          "text": [
            "[1, 2, 3]\n",
            "(1, 2, 3)\n",
            "{1: '1', 2: '2', 3: '3'}\n"
          ]
        }
      ],
      "source": [
        "#Question 1\n",
        "\n",
        "l = list([1, 2, 3])\n",
        "t = tuple([1, 2, 3])\n",
        "d = dict({1: '1', 2: '2', 3: '3'})\n",
        "print(l)\n",
        "print(t)\n",
        "print(d)"
      ]
    },
    {
      "cell_type": "code",
      "source": [
        "#Question2\n",
        "import numpy as np\n",
        "\n",
        "l = [1,2,3,4,5]\n",
        "print(l[1])\n",
        "nl = np.array(l)\n",
        "nl.dtype, nl.shape"
      ],
      "metadata": {
        "colab": {
          "base_uri": "https://localhost:8080/"
        },
        "id": "XnzmThJGc7Oa",
        "outputId": "8e976c9b-417f-4bf0-cb9c-58ff1b225581"
      },
      "execution_count": 5,
      "outputs": [
        {
          "output_type": "stream",
          "name": "stdout",
          "text": [
            "2\n"
          ]
        },
        {
          "output_type": "execute_result",
          "data": {
            "text/plain": [
              "(dtype('int64'), (5,))"
            ]
          },
          "metadata": {},
          "execution_count": 5
        }
      ]
    },
    {
      "cell_type": "code",
      "source": [
        "#Question3\n",
        "x = range(1, 50, 10)\n",
        "for n in x:\n",
        "  print(n)"
      ],
      "metadata": {
        "colab": {
          "base_uri": "https://localhost:8080/"
        },
        "id": "PmLu6gb-dwy4",
        "outputId": "d2c05cb4-0730-4093-ffdd-8945d00ea55d"
      },
      "execution_count": 6,
      "outputs": [
        {
          "output_type": "stream",
          "name": "stdout",
          "text": [
            "1\n",
            "11\n",
            "21\n",
            "31\n",
            "41\n"
          ]
        }
      ]
    },
    {
      "cell_type": "code",
      "source": [
        "#Question4\n",
        "a = \"Techniquelab\"\n",
        "print(a[5])\n",
        "index = a.index('i')   # 1\n",
        "\n",
        "print('The index of i:', index)"
      ],
      "metadata": {
        "colab": {
          "base_uri": "https://localhost:8080/"
        },
        "id": "4V-5lwtCeIh2",
        "outputId": "0669a0c1-7b9f-4679-dcc5-e304f9b3578c"
      },
      "execution_count": 12,
      "outputs": [
        {
          "output_type": "stream",
          "name": "stdout",
          "text": [
            "i\n",
            "The index of i: 5\n"
          ]
        }
      ]
    },
    {
      "cell_type": "code",
      "source": [
        "#Question5\n",
        "a = list(range(1, 50, 10))\n",
        "print(11 in a)\n",
        "print(f'at 3rd index = {a[3]}')\n"
      ],
      "metadata": {
        "colab": {
          "base_uri": "https://localhost:8080/"
        },
        "id": "saqJm-y4fCnj",
        "outputId": "ae105c4b-7682-425d-a1b7-e658acb6c02a"
      },
      "execution_count": 13,
      "outputs": [
        {
          "output_type": "stream",
          "name": "stdout",
          "text": [
            "True\n",
            "at 3rd index = 31\n"
          ]
        }
      ]
    },
    {
      "cell_type": "code",
      "source": [
        "#Question6\n",
        "l = [100, 'Alice', 12, 'Programmer']\n",
        "print(l)\n",
        "l.append('Python')\n",
        "print(l)"
      ],
      "metadata": {
        "colab": {
          "base_uri": "https://localhost:8080/"
        },
        "id": "OSzzzluqf1PR",
        "outputId": "8b4fc6c6-ad46-4d98-c768-9f3233d9301e"
      },
      "execution_count": 14,
      "outputs": [
        {
          "output_type": "stream",
          "name": "stdout",
          "text": [
            "[100, 'Alice', 12, 'Programmer']\n",
            "[100, 'Alice', 12, 'Programmer', 'Python']\n"
          ]
        }
      ]
    },
    {
      "cell_type": "code",
      "source": [
        "#Question7\n",
        "t = (100, 'Alice', 12, 'Programmer')\n",
        "print(t)\n",
        "t+= ('Python', 'ML')\n",
        "print(t)"
      ],
      "metadata": {
        "colab": {
          "base_uri": "https://localhost:8080/"
        },
        "id": "LsPkYMvBgHo3",
        "outputId": "1567cb29-09f6-4b04-93ae-da66e3abf8ad"
      },
      "execution_count": 18,
      "outputs": [
        {
          "output_type": "stream",
          "name": "stdout",
          "text": [
            "(100, 'Alice', 12, 'Programmer')\n",
            "(100, 'Alice', 12, 'Programmer', 'Python', 'ML')\n"
          ]
        }
      ]
    },
    {
      "cell_type": "code",
      "source": [
        "#Question8\n",
        "t = tuple([100, 'Alice', 12, 'Programmer'])\n",
        "print(t[0:3])"
      ],
      "metadata": {
        "colab": {
          "base_uri": "https://localhost:8080/"
        },
        "id": "JSQdJgS3gi7G",
        "outputId": "2f25f22d-e20b-4b31-b96a-4f996d976a67"
      },
      "execution_count": 19,
      "outputs": [
        {
          "output_type": "stream",
          "name": "stdout",
          "text": [
            "(100, 'Alice', 12)\n"
          ]
        }
      ]
    }
  ]
}